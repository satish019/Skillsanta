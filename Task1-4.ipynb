{
 "cells": [
  {
   "cell_type": "code",
   "execution_count": 1,
   "metadata": {},
   "outputs": [
    {
     "name": "stdout",
     "output_type": "stream",
     "text": [
      "Largest no in the list:\n",
      " 65\n"
     ]
    }
   ],
   "source": [
    "list = [52,65,2,8,7,41]\n",
    "list.sort()\n",
    "print(\"Largest no in the list:\\n\", list[-1])"
   ]
  },
  {
   "cell_type": "code",
   "execution_count": 2,
   "metadata": {},
   "outputs": [
    {
     "name": "stdout",
     "output_type": "stream",
     "text": [
      "Largest no in the list:\n",
      " 53\n"
     ]
    }
   ],
   "source": [
    "list = [52,65,2,8,53,41]\n",
    "list.sort()\n",
    "print(\"Largest no in the list:\\n\", list[-2])"
   ]
  },
  {
   "cell_type": "code",
   "execution_count": 3,
   "metadata": {},
   "outputs": [
    {
     "name": "stdout",
     "output_type": "stream",
     "text": [
      "[84, 89, 12, 3, 4, 2, 56]\n"
     ]
    }
   ],
   "source": [
    "list1= [56,89,12,3,4,2,84]\n",
    "def swaplist(list1):\n",
    "    first= list1.pop(0)\n",
    "    last= list1.pop(-1)\n",
    "    list1.insert(0,last)\n",
    "    list1.append(first)\n",
    "    return list1\n",
    "print(swaplist(list1))"
   ]
  },
  {
   "cell_type": "code",
   "execution_count": 4,
   "metadata": {},
   "outputs": [
    {
     "name": "stdout",
     "output_type": "stream",
     "text": [
      "[2, 10, 23, 36, 45, 54, 56, 59]\n"
     ]
    }
   ],
   "source": [
    "list1= [59,45,23,56]\n",
    "list2= [2,54,10,36]\n",
    "list3= list1 + list2\n",
    "list3.sort()\n",
    "print(list3)"
   ]
  },
  {
   "cell_type": "code",
   "execution_count": null,
   "metadata": {},
   "outputs": [],
   "source": []
  }
 ],
 "metadata": {
  "kernelspec": {
   "display_name": "Python 3",
   "language": "python",
   "name": "python3"
  },
  "language_info": {
   "codemirror_mode": {
    "name": "ipython",
    "version": 3
   },
   "file_extension": ".py",
   "mimetype": "text/x-python",
   "name": "python",
   "nbconvert_exporter": "python",
   "pygments_lexer": "ipython3",
   "version": "3.7.1"
  }
 },
 "nbformat": 4,
 "nbformat_minor": 2
}
